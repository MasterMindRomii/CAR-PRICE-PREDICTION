{
 "cells": [
  {
   "cell_type": "markdown",
   "id": "426bb766-276c-4553-ac22-671c8d331234",
   "metadata": {},
   "source": [
    "# Import Necessary Libraries"
   ]
  },
  {
   "cell_type": "code",
   "execution_count": 1,
   "id": "af5cda98-586c-4333-b89b-b63b07b22dd8",
   "metadata": {},
   "outputs": [],
   "source": [
    "import numpy as np\n",
    "import pandas as pd"
   ]
  },
  {
   "cell_type": "code",
   "execution_count": 2,
   "id": "db7fe206-1adf-4757-8c80-4b01eb45ae67",
   "metadata": {},
   "outputs": [],
   "source": [
    "df=pd.read_csv(r'C:\\Users\\Dell\\Desktop\\75 Day\\EDA-DAY3\\honda_car_selling.csv')"
   ]
  },
  {
   "cell_type": "code",
   "execution_count": 3,
   "id": "97806d43-93bd-477b-830d-ca14b9598325",
   "metadata": {},
   "outputs": [
    {
     "name": "stdout",
     "output_type": "stream",
     "text": [
      "<class 'pandas.core.frame.DataFrame'>\n",
      "RangeIndex: 999 entries, 0 to 998\n",
      "Data columns (total 6 columns):\n",
      " #   Column      Non-Null Count  Dtype \n",
      "---  ------      --------------  ----- \n",
      " 0   Year        999 non-null    int64 \n",
      " 1   kms Driven  999 non-null    object\n",
      " 2   Fuel Type   999 non-null    object\n",
      " 3   Suspension  999 non-null    object\n",
      " 4   Price       999 non-null    object\n",
      " 5   Car Model   999 non-null    object\n",
      "dtypes: int64(1), object(5)\n",
      "memory usage: 47.0+ KB\n"
     ]
    }
   ],
   "source": [
    "df.info()"
   ]
  },
  {
   "cell_type": "code",
   "execution_count": 4,
   "id": "ab9bb3dd-2385-41d3-ab6d-f0ffa388b14c",
   "metadata": {},
   "outputs": [
    {
     "data": {
      "text/plain": [
       "Index(['Year', 'kms Driven', 'Fuel Type', 'Suspension', 'Price', 'Car Model'], dtype='object')"
      ]
     },
     "execution_count": 4,
     "metadata": {},
     "output_type": "execute_result"
    }
   ],
   "source": [
    "df.columns"
   ]
  },
  {
   "cell_type": "code",
   "execution_count": 6,
   "id": "03088891-9164-4c22-8777-d305bfe6caa1",
   "metadata": {},
   "outputs": [
    {
     "data": {
      "text/plain": [
       "(999, 6)"
      ]
     },
     "execution_count": 6,
     "metadata": {},
     "output_type": "execute_result"
    }
   ],
   "source": [
    "df.shape"
   ]
  },
  {
   "cell_type": "code",
   "execution_count": 7,
   "id": "8bef3e7b-a4cf-4bfd-96cf-85635822ca94",
   "metadata": {},
   "outputs": [
    {
     "data": {
      "text/html": [
       "<div>\n",
       "<style scoped>\n",
       "    .dataframe tbody tr th:only-of-type {\n",
       "        vertical-align: middle;\n",
       "    }\n",
       "\n",
       "    .dataframe tbody tr th {\n",
       "        vertical-align: top;\n",
       "    }\n",
       "\n",
       "    .dataframe thead th {\n",
       "        text-align: right;\n",
       "    }\n",
       "</style>\n",
       "<table border=\"1\" class=\"dataframe\">\n",
       "  <thead>\n",
       "    <tr style=\"text-align: right;\">\n",
       "      <th></th>\n",
       "      <th>Year</th>\n",
       "      <th>kms Driven</th>\n",
       "      <th>Fuel Type</th>\n",
       "      <th>Suspension</th>\n",
       "      <th>Price</th>\n",
       "      <th>Car Model</th>\n",
       "    </tr>\n",
       "  </thead>\n",
       "  <tbody>\n",
       "    <tr>\n",
       "      <th>0</th>\n",
       "      <td>2019</td>\n",
       "      <td>19006 kms</td>\n",
       "      <td>Petrol</td>\n",
       "      <td>Automatic</td>\n",
       "      <td>9.29 Lakh</td>\n",
       "      <td>Honda City V CVT</td>\n",
       "    </tr>\n",
       "    <tr>\n",
       "      <th>1</th>\n",
       "      <td>2021</td>\n",
       "      <td>11936 kms</td>\n",
       "      <td>Petrol</td>\n",
       "      <td>Automatic</td>\n",
       "      <td>13.95 Lakh</td>\n",
       "      <td>Honda City ZX CVT</td>\n",
       "    </tr>\n",
       "    <tr>\n",
       "      <th>2</th>\n",
       "      <td>2018</td>\n",
       "      <td>29635 kms</td>\n",
       "      <td>Petrol</td>\n",
       "      <td>Automatic</td>\n",
       "      <td>9.95 Lakh</td>\n",
       "      <td>Honda City i-VTEC CVT ZX</td>\n",
       "    </tr>\n",
       "    <tr>\n",
       "      <th>3</th>\n",
       "      <td>2020</td>\n",
       "      <td>16163 kms</td>\n",
       "      <td>Petrol</td>\n",
       "      <td>Automatic</td>\n",
       "      <td>13.26 Lakh</td>\n",
       "      <td>Honda City ZX CVT</td>\n",
       "    </tr>\n",
       "    <tr>\n",
       "      <th>4</th>\n",
       "      <td>2015</td>\n",
       "      <td>105114 kms</td>\n",
       "      <td>Petrol</td>\n",
       "      <td>Manual</td>\n",
       "      <td>5.68 Lakh</td>\n",
       "      <td>Honda City i VTEC V</td>\n",
       "    </tr>\n",
       "  </tbody>\n",
       "</table>\n",
       "</div>"
      ],
      "text/plain": [
       "   Year   kms Driven Fuel Type  Suspension        Price  \\\n",
       "0  2019   19006 kms    Petrol    Automatic    9.29 Lakh   \n",
       "1  2021   11936 kms    Petrol    Automatic   13.95 Lakh   \n",
       "2  2018   29635 kms    Petrol    Automatic    9.95 Lakh   \n",
       "3  2020   16163 kms    Petrol    Automatic   13.26 Lakh   \n",
       "4  2015  105114 kms    Petrol       Manual    5.68 Lakh   \n",
       "\n",
       "                  Car Model  \n",
       "0          Honda City V CVT  \n",
       "1         Honda City ZX CVT  \n",
       "2  Honda City i-VTEC CVT ZX  \n",
       "3         Honda City ZX CVT  \n",
       "4       Honda City i VTEC V  "
      ]
     },
     "execution_count": 7,
     "metadata": {},
     "output_type": "execute_result"
    }
   ],
   "source": [
    "df.head(5)"
   ]
  },
  {
   "cell_type": "markdown",
   "id": "637c319a-fa04-44d2-890c-05dd714fe795",
   "metadata": {},
   "source": [
    "# Data Cleaning"
   ]
  },
  {
   "cell_type": "markdown",
   "id": "4dd7b8f3-dde7-400a-80c7-79795df38437",
   "metadata": {},
   "source": [
    "## Making a backup copy"
   ]
  },
  {
   "cell_type": "code",
   "execution_count": 8,
   "id": "a15c55ce-2793-4deb-8a9f-7cf7a489572b",
   "metadata": {},
   "outputs": [],
   "source": [
    "Backup=df.copy()"
   ]
  },
  {
   "cell_type": "markdown",
   "id": "4e055893-35da-4e9c-8480-f798c9e76c83",
   "metadata": {},
   "source": [
    "## Cleaning Year Column"
   ]
  },
  {
   "cell_type": "code",
   "execution_count": 9,
   "id": "bd8a8620-d981-4dd5-957a-ead63f72c572",
   "metadata": {},
   "outputs": [
    {
     "data": {
      "text/plain": [
       "array([2019, 2021, 2018, 2020, 2015, 2016, 2014, 2017, 2022, 2013, 2012,\n",
       "       2010, 2011, 2008, 2009, 2023, 2007, 2005, 2004, 2003, 2006, 2000],\n",
       "      dtype=int64)"
      ]
     },
     "execution_count": 9,
     "metadata": {},
     "output_type": "execute_result"
    }
   ],
   "source": [
    "df['Year'].unique()"
   ]
  },
  {
   "cell_type": "markdown",
   "id": "fe10c74f-016c-4ab4-920c-12724e870a6c",
   "metadata": {},
   "source": [
    "## Cleaning kms Driven Column "
   ]
  },
  {
   "cell_type": "code",
   "execution_count": 10,
   "id": "8d1ec303-03e3-4aeb-9e1c-7df2d1566433",
   "metadata": {},
   "outputs": [],
   "source": [
    "df['kms Driven']=df['kms Driven'].str.strip()"
   ]
  },
  {
   "cell_type": "code",
   "execution_count": 11,
   "id": "6a4dfd8d-6840-4ee4-a0de-9b631081b022",
   "metadata": {},
   "outputs": [],
   "source": [
    "df['kms Driven']=df['kms Driven'].str.strip().str.get(0)"
   ]
  },
  {
   "cell_type": "code",
   "execution_count": 12,
   "id": "942f9a6a-3f52-4133-b3d1-1840eee13ff7",
   "metadata": {},
   "outputs": [],
   "source": [
    "df['kms Driven']=df['kms Driven'].astype('int')"
   ]
  },
  {
   "cell_type": "markdown",
   "id": "8b7b9b3d-97fc-431d-a9e4-c0b9b42ea832",
   "metadata": {},
   "source": [
    "## Cleaning Fuel Type Column "
   ]
  },
  {
   "cell_type": "code",
   "execution_count": 13,
   "id": "5f20ddf5-2629-4555-b26a-755f71361ccd",
   "metadata": {},
   "outputs": [
    {
     "data": {
      "text/plain": [
       "array([' Petrol ', ' Diesel ', ' CNG '], dtype=object)"
      ]
     },
     "execution_count": 13,
     "metadata": {},
     "output_type": "execute_result"
    }
   ],
   "source": [
    "df['Fuel Type'].unique()"
   ]
  },
  {
   "cell_type": "code",
   "execution_count": 15,
   "id": "d4528279-0d52-4644-afb7-90e478fbd720",
   "metadata": {},
   "outputs": [],
   "source": [
    "df['Fuel Type']=df['Fuel Type'].str.strip()"
   ]
  },
  {
   "cell_type": "code",
   "execution_count": 17,
   "id": "2b3d4397-ed0f-4e5b-952e-07f401e1cac0",
   "metadata": {},
   "outputs": [],
   "source": [
    "df['Fuel Type']=df['Fuel Type'].astype('category')"
   ]
  },
  {
   "cell_type": "markdown",
   "id": "f9a16f70-cdeb-4823-b6d0-d095ebfb7ca7",
   "metadata": {},
   "source": [
    "## Cleaning Suspension Column "
   ]
  },
  {
   "cell_type": "code",
   "execution_count": 19,
   "id": "12783127-3543-466d-a13f-45038e9e6fb6",
   "metadata": {},
   "outputs": [
    {
     "data": {
      "text/plain": [
       "array([' Automatic', ' Manual'], dtype=object)"
      ]
     },
     "execution_count": 19,
     "metadata": {},
     "output_type": "execute_result"
    }
   ],
   "source": [
    "df['Suspension'].unique()"
   ]
  },
  {
   "cell_type": "code",
   "execution_count": 20,
   "id": "70b5bfc8-06a5-4176-856c-9a035ad41733",
   "metadata": {},
   "outputs": [],
   "source": [
    "df['Suspension']=df['Suspension'].str.strip()"
   ]
  },
  {
   "cell_type": "code",
   "execution_count": 21,
   "id": "346bb6b2-924e-4b99-93f1-c1b71d22c6c0",
   "metadata": {},
   "outputs": [],
   "source": [
    "df['Suspension']=df['Suspension'].astype('category')"
   ]
  },
  {
   "cell_type": "markdown",
   "id": "2b962652-2da4-4c7d-9985-d45ae480299c",
   "metadata": {},
   "source": [
    "## Cleaning Price Column "
   ]
  },
  {
   "cell_type": "code",
   "execution_count": 24,
   "id": "d107d2f7-4951-4f29-bbf7-4659b7a7e564",
   "metadata": {},
   "outputs": [
    {
     "data": {
      "text/plain": [
       "<bound method Series.unique of 0      <bound method Series.unique of 0        9.29 L...\n",
       "1      <bound method Series.unique of 0        9.29 L...\n",
       "2      <bound method Series.unique of 0        9.29 L...\n",
       "3      <bound method Series.unique of 0        9.29 L...\n",
       "4      <bound method Series.unique of 0        9.29 L...\n",
       "                             ...                        \n",
       "994    <bound method Series.unique of 0        9.29 L...\n",
       "995    <bound method Series.unique of 0        9.29 L...\n",
       "996    <bound method Series.unique of 0        9.29 L...\n",
       "997    <bound method Series.unique of 0        9.29 L...\n",
       "998    <bound method Series.unique of 0        9.29 L...\n",
       "Name: Price, Length: 999, dtype: object>"
      ]
     },
     "execution_count": 24,
     "metadata": {},
     "output_type": "execute_result"
    }
   ],
   "source": [
    "df['Price'].unique"
   ]
  },
  {
   "cell_type": "code",
   "execution_count": 25,
   "id": "2a44f566-5514-48ef-9cbc-6cc461145d97",
   "metadata": {},
   "outputs": [],
   "source": [
    "df['Price']=df['Price'].str.strip()"
   ]
  },
  {
   "cell_type": "code",
   "execution_count": 31,
   "id": "39cd7429-1652-4c25-b505-03588b6ab568",
   "metadata": {},
   "outputs": [
    {
     "ename": "NameError",
     "evalue": "name 'nan' is not defined",
     "output_type": "error",
     "traceback": [
      "\u001b[1;31m---------------------------------------------------------------------------\u001b[0m",
      "\u001b[1;31mNameError\u001b[0m                                 Traceback (most recent call last)",
      "Cell \u001b[1;32mIn[31], line 13\u001b[0m\n\u001b[0;32m     11\u001b[0m df[\u001b[38;5;124m\"\u001b[39m\u001b[38;5;124mPrice\u001b[39m\u001b[38;5;124m\"\u001b[39m] \u001b[38;5;241m=\u001b[39m df[\u001b[38;5;124m\"\u001b[39m\u001b[38;5;124mPrice\u001b[39m\u001b[38;5;124m\"\u001b[39m]\u001b[38;5;241m.\u001b[39mstr\u001b[38;5;241m.\u001b[39mreplace(\u001b[38;5;124m'\u001b[39m\u001b[38;5;124m,\u001b[39m\u001b[38;5;124m'\u001b[39m, \u001b[38;5;124m'\u001b[39m\u001b[38;5;124m'\u001b[39m)\n\u001b[0;32m     12\u001b[0m df[\u001b[38;5;124m\"\u001b[39m\u001b[38;5;124mPrice\u001b[39m\u001b[38;5;124m\"\u001b[39m] \u001b[38;5;241m=\u001b[39m df[\u001b[38;5;124m\"\u001b[39m\u001b[38;5;124mPrice\u001b[39m\u001b[38;5;124m\"\u001b[39m]\u001b[38;5;241m.\u001b[39mstr\u001b[38;5;241m.\u001b[39mreplace(\u001b[38;5;124m'\u001b[39m\u001b[38;5;124mLakh\u001b[39m\u001b[38;5;124m'\u001b[39m, \u001b[38;5;124m'\u001b[39m\u001b[38;5;124m100000\u001b[39m\u001b[38;5;124m'\u001b[39m)\n\u001b[1;32m---> 13\u001b[0m df[\u001b[38;5;124m\"\u001b[39m\u001b[38;5;124mPrice\u001b[39m\u001b[38;5;124m\"\u001b[39m] \u001b[38;5;241m=\u001b[39m \u001b[43mdf\u001b[49m\u001b[43m[\u001b[49m\u001b[38;5;124;43m\"\u001b[39;49m\u001b[38;5;124;43mPrice\u001b[39;49m\u001b[38;5;124;43m\"\u001b[39;49m\u001b[43m]\u001b[49m\u001b[38;5;241;43m.\u001b[39;49m\u001b[43mmap\u001b[49m\u001b[43m(\u001b[49m\u001b[43mprice_cleaner\u001b[49m\u001b[43m)\u001b[49m\n",
      "File \u001b[1;32m~\\anaconda3\\Lib\\site-packages\\pandas\\core\\series.py:4539\u001b[0m, in \u001b[0;36mSeries.map\u001b[1;34m(self, arg, na_action)\u001b[0m\n\u001b[0;32m   4460\u001b[0m \u001b[38;5;28;01mdef\u001b[39;00m \u001b[38;5;21mmap\u001b[39m(\n\u001b[0;32m   4461\u001b[0m     \u001b[38;5;28mself\u001b[39m,\n\u001b[0;32m   4462\u001b[0m     arg: Callable \u001b[38;5;241m|\u001b[39m Mapping \u001b[38;5;241m|\u001b[39m Series,\n\u001b[0;32m   4463\u001b[0m     na_action: Literal[\u001b[38;5;124m\"\u001b[39m\u001b[38;5;124mignore\u001b[39m\u001b[38;5;124m\"\u001b[39m] \u001b[38;5;241m|\u001b[39m \u001b[38;5;28;01mNone\u001b[39;00m \u001b[38;5;241m=\u001b[39m \u001b[38;5;28;01mNone\u001b[39;00m,\n\u001b[0;32m   4464\u001b[0m ) \u001b[38;5;241m-\u001b[39m\u001b[38;5;241m>\u001b[39m Series:\n\u001b[0;32m   4465\u001b[0m \u001b[38;5;250m    \u001b[39m\u001b[38;5;124;03m\"\"\"\u001b[39;00m\n\u001b[0;32m   4466\u001b[0m \u001b[38;5;124;03m    Map values of Series according to an input mapping or function.\u001b[39;00m\n\u001b[0;32m   4467\u001b[0m \n\u001b[1;32m   (...)\u001b[0m\n\u001b[0;32m   4537\u001b[0m \u001b[38;5;124;03m    dtype: object\u001b[39;00m\n\u001b[0;32m   4538\u001b[0m \u001b[38;5;124;03m    \"\"\"\u001b[39;00m\n\u001b[1;32m-> 4539\u001b[0m     new_values \u001b[38;5;241m=\u001b[39m \u001b[38;5;28;43mself\u001b[39;49m\u001b[38;5;241;43m.\u001b[39;49m\u001b[43m_map_values\u001b[49m\u001b[43m(\u001b[49m\u001b[43marg\u001b[49m\u001b[43m,\u001b[49m\u001b[43m \u001b[49m\u001b[43mna_action\u001b[49m\u001b[38;5;241;43m=\u001b[39;49m\u001b[43mna_action\u001b[49m\u001b[43m)\u001b[49m\n\u001b[0;32m   4540\u001b[0m     \u001b[38;5;28;01mreturn\u001b[39;00m \u001b[38;5;28mself\u001b[39m\u001b[38;5;241m.\u001b[39m_constructor(new_values, index\u001b[38;5;241m=\u001b[39m\u001b[38;5;28mself\u001b[39m\u001b[38;5;241m.\u001b[39mindex)\u001b[38;5;241m.\u001b[39m__finalize__(\n\u001b[0;32m   4541\u001b[0m         \u001b[38;5;28mself\u001b[39m, method\u001b[38;5;241m=\u001b[39m\u001b[38;5;124m\"\u001b[39m\u001b[38;5;124mmap\u001b[39m\u001b[38;5;124m\"\u001b[39m\n\u001b[0;32m   4542\u001b[0m     )\n",
      "File \u001b[1;32m~\\anaconda3\\Lib\\site-packages\\pandas\\core\\base.py:890\u001b[0m, in \u001b[0;36mIndexOpsMixin._map_values\u001b[1;34m(self, mapper, na_action)\u001b[0m\n\u001b[0;32m    887\u001b[0m         \u001b[38;5;28;01mraise\u001b[39;00m \u001b[38;5;167;01mValueError\u001b[39;00m(msg)\n\u001b[0;32m    889\u001b[0m \u001b[38;5;66;03m# mapper is a function\u001b[39;00m\n\u001b[1;32m--> 890\u001b[0m new_values \u001b[38;5;241m=\u001b[39m \u001b[43mmap_f\u001b[49m\u001b[43m(\u001b[49m\u001b[43mvalues\u001b[49m\u001b[43m,\u001b[49m\u001b[43m \u001b[49m\u001b[43mmapper\u001b[49m\u001b[43m)\u001b[49m\n\u001b[0;32m    892\u001b[0m \u001b[38;5;28;01mreturn\u001b[39;00m new_values\n",
      "File \u001b[1;32m~\\anaconda3\\Lib\\site-packages\\pandas\\_libs\\lib.pyx:2924\u001b[0m, in \u001b[0;36mpandas._libs.lib.map_infer\u001b[1;34m()\u001b[0m\n",
      "Cell \u001b[1;32mIn[31], line 3\u001b[0m, in \u001b[0;36mprice_cleaner\u001b[1;34m(values)\u001b[0m\n\u001b[0;32m      1\u001b[0m \u001b[38;5;28;01mdef\u001b[39;00m \u001b[38;5;21mprice_cleaner\u001b[39m(values):\n\u001b[0;32m      2\u001b[0m     output \u001b[38;5;241m=\u001b[39m values\u001b[38;5;241m.\u001b[39msplit()\n\u001b[1;32m----> 3\u001b[0m     result \u001b[38;5;241m=\u001b[39m \u001b[43m[\u001b[49m\u001b[38;5;28;43meval\u001b[39;49m\u001b[43m(\u001b[49m\u001b[43mi\u001b[49m\u001b[43m)\u001b[49m\u001b[43m \u001b[49m\u001b[38;5;28;43;01mfor\u001b[39;49;00m\u001b[43m \u001b[49m\u001b[43mi\u001b[49m\u001b[43m \u001b[49m\u001b[38;5;129;43;01min\u001b[39;49;00m\u001b[43m \u001b[49m\u001b[43moutput\u001b[49m\u001b[43m]\u001b[49m\n\u001b[0;32m      4\u001b[0m     \u001b[38;5;28;01mreturn\u001b[39;00m np\u001b[38;5;241m.\u001b[39mprod(result)\n",
      "Cell \u001b[1;32mIn[31], line 3\u001b[0m, in \u001b[0;36m<listcomp>\u001b[1;34m(.0)\u001b[0m\n\u001b[0;32m      1\u001b[0m \u001b[38;5;28;01mdef\u001b[39;00m \u001b[38;5;21mprice_cleaner\u001b[39m(values):\n\u001b[0;32m      2\u001b[0m     output \u001b[38;5;241m=\u001b[39m values\u001b[38;5;241m.\u001b[39msplit()\n\u001b[1;32m----> 3\u001b[0m     result \u001b[38;5;241m=\u001b[39m [\u001b[38;5;28;43meval\u001b[39;49m\u001b[43m(\u001b[49m\u001b[43mi\u001b[49m\u001b[43m)\u001b[49m \u001b[38;5;28;01mfor\u001b[39;00m i \u001b[38;5;129;01min\u001b[39;00m output]\n\u001b[0;32m      4\u001b[0m     \u001b[38;5;28;01mreturn\u001b[39;00m np\u001b[38;5;241m.\u001b[39mprod(result)\n",
      "File \u001b[1;32m<string>:1\u001b[0m\n",
      "\u001b[1;31mNameError\u001b[0m: name 'nan' is not defined"
     ]
    }
   ],
   "source": [
    "def price_cleaner(values):\n",
    "    output = values.split()\n",
    "    result = [eval(i) for i in output]\n",
    "    return np.prod(result)\n",
    "\n",
    "# Convert \"Price\" column to string type\n",
    "df[\"Price\"] = df[\"Price\"].astype(str)\n",
    "\n",
    "# Apply string operations\n",
    "df[\"Price\"] = df[\"Price\"].str.strip()\n",
    "df[\"Price\"] = df[\"Price\"].str.replace(',', '')\n",
    "df[\"Price\"] = df[\"Price\"].str.replace('Lakh', '100000')\n",
    "df[\"Price\"] = df[\"Price\"].map(price_cleaner)\n"
   ]
  },
  {
   "cell_type": "code",
   "execution_count": 34,
   "id": "f88a56ff-48a4-4b79-a12a-a464dfa8af3b",
   "metadata": {},
   "outputs": [],
   "source": [
    "#Refrence ChatGPT\n",
    "def price_cleaner(values):\n",
    "    output = values.split()\n",
    "    result = []\n",
    "    for i in output:\n",
    "        try:\n",
    "            result.append(eval(i))\n",
    "        except (NameError, SyntaxError):\n",
    "            # Handle 'nan' or invalid expressions\n",
    "            pass\n",
    "    return np.prod(result)\n",
    "\n",
    "# Convert \"Price\" column to string type\n",
    "df[\"Price\"] = df[\"Price\"].astype(str)\n",
    "\n",
    "# Apply string operations\n",
    "df[\"Price\"] = df[\"Price\"].str.strip()\n",
    "df[\"Price\"] = df[\"Price\"].str.replace(',', '')\n",
    "df[\"Price\"] = df[\"Price\"].str.replace('Lakh', '100000')\n",
    "df[\"Price\"] = df[\"Price\"].map(price_cleaner)\n"
   ]
  },
  {
   "cell_type": "code",
   "execution_count": 35,
   "id": "9c790125-f31d-4acc-a965-95fdef2698b1",
   "metadata": {},
   "outputs": [],
   "source": [
    "df[\"Price\"] = df[\"Price\"].astype(int)"
   ]
  },
  {
   "cell_type": "markdown",
   "id": "3cb2fe01-6661-4970-b736-b085dfbc7593",
   "metadata": {},
   "source": [
    "## Cleaning Car Model Column "
   ]
  },
  {
   "cell_type": "code",
   "execution_count": 36,
   "id": "9d62b552-6281-4767-9ff1-9b9a7f678bb8",
   "metadata": {},
   "outputs": [
    {
     "data": {
      "text/plain": [
       "array(['Honda City V CVT', 'Honda City ZX CVT',\n",
       "       'Honda City i-VTEC CVT ZX', 'Honda City i VTEC V',\n",
       "       'Honda City i DTEC S', 'Honda Jazz 1.5 SV i DTEC',\n",
       "       'Honda City i DTEC VX', 'Honda WR-V i-VTEC VX',\n",
       "       'Honda Amaze V CVT Petrol ', 'Honda Jazz 1.2 V i VTEC',\n",
       "       'Honda City VX MT', 'Honda City i VTEC VX',\n",
       "       'Honda Amaze S i-Vtech', 'Honda Jazz 1.2 V AT i VTE',\n",
       "       'Honda Amaze S Petrol', 'Honda WR-V i-DTEC VX',\n",
       "       'Honda Jazz 1.5 S i DTEC', 'Honda Amaze S i-DTEC',\n",
       "       'Honda Amaze S i-Dtech', 'Honda City i DTEC V',\n",
       "       'Honda City VX CVT', 'Honda Brio S MT', 'Honda Brio S Option MT',\n",
       "       'Honda Brio 1.2 S MT', 'Honda Amaze V CVT Diesel ',\n",
       "       'Honda Jazz 1.2 VX i VTEC', 'Honda Amaze VX AT i-Vtech',\n",
       "       'Honda City V MT', 'Honda Amaze VX i-DTEC', 'Honda City ZX MT',\n",
       "       'Honda City i VTEC SV', 'Honda Brio 1.2 VX MT',\n",
       "       'Honda Amaze E i-DTEC', 'Honda City i VTEC CVT VX',\n",
       "       'Honda City i DTEC SV', 'Honda Amaze VX i-Vtech',\n",
       "       'Honda Amaze SX i VTEC', 'Honda Amaze S Plus i-VTEC',\n",
       "       'Honda City S', 'Honda City V AT', 'Honda City 1.5 V MT Exclu',\n",
       "       'Honda City i-VTEC CVT VX', 'Honda City VTEC', 'Honda Jazz V CVT',\n",
       "       'Honda City 1.5 V AT', 'Honda City 1.5 S MT',\n",
       "       'Honda City 1.5 V MT', 'Honda Accord 2.4 AT',\n",
       "       'Honda Accord 2.4 Elegance', 'Honda Mobilio S i-DTEC',\n",
       "       'Honda Civic 1.8 V MT', 'Honda Jazz 1.5 V i DTEC',\n",
       "       'Honda Amaze E i-Dtech', 'Honda Jazz V',\n",
       "       'Honda Amaze VX CVT i-VTEC', 'Honda CR-V RVi MT',\n",
       "       'Honda City 1.5 S AT', 'Honda BR-V i-VTEC V CVT',\n",
       "       'Honda City i-VTEC SV', 'Honda Civic 1.8 V AT',\n",
       "       'Honda City i-VTEC CVT V', 'Honda Amaze S i-VTEC',\n",
       "       'Honda City i-VTEC V', 'Honda WR-V SV', 'Honda City i-VTEC ZX',\n",
       "       'Honda Amaze S Petrol BSIV', 'Honda Amaze V Petrol BSIV',\n",
       "       'Honda Brio EX MT', 'Honda Amaze VX Diesel BSI',\n",
       "       'Honda City SV MT', 'Honda Amaze VX Petrol',\n",
       "       'Honda Amaze S Option i-VT', 'Honda Jazz Select Edition',\n",
       "       'Honda Accord 2.4 MT', 'Honda City i VTEC S',\n",
       "       'Honda Amaze E i-Vtech', 'Honda Amaze S AT i-Vtech',\n",
       "       'Honda WR-V i-VTEC S', 'Honda BR-V i-VTEC V MT',\n",
       "       'Honda City i DTec VX Opti', 'Honda Jazz 1.2 SV i VTEC',\n",
       "       'Honda City Anniversary i-', 'Honda City i-DTEC ZX',\n",
       "       'Honda CR-V 2.0 CVT', 'Honda WR-V VX', 'Honda CR-V 2.4L 4WD AT',\n",
       "       'Honda Jazz 1.2 S AT i VTE', 'Honda BR-V i-VTEC E MT',\n",
       "       'Honda City i DTec VX', 'Honda Amaze EX i-Vtech',\n",
       "       'Honda City i VTEC CVT SV', 'Honda Amaze E i-VTEC',\n",
       "       'Honda Amaze S', 'Honda Brio VX', 'Honda City E', 'Honda City GXi',\n",
       "       'Honda City EXi', 'Honda Brio V MT', 'Honda Amaze SX i-VTEC',\n",
       "       'Honda Jazz 1.2 E i VTEC', 'Honda Mobilio S i-VTEC',\n",
       "       'Honda Mobilio V i-VTEC', 'Honda BR-V i-VTEC S MT', 'Honda Jazz S',\n",
       "       'Honda Jazz Basic', 'Honda Amaze VX CVT Petrol',\n",
       "       'Honda Amaze S CVT Petrol ', 'Honda City i-DTEC VX',\n",
       "       'Honda Amaze VX CVT', 'Honda City 1.5 E MT',\n",
       "       'Honda Amaze S Option i-DT', 'Honda Amaze VX i-VTEC',\n",
       "       'Honda City i-VTEC VX', 'Honda BR-V i-DTEC S MT',\n",
       "       'Honda City i VTEC VX Opti', 'Honda WR-V i-DTEC S',\n",
       "       'Honda City 1.5 GXI', 'Honda CR-V 2.4 4WD AT',\n",
       "       'Honda CR-V Diesel 2WD', 'Honda Civic VX',\n",
       "       'Honda WR-V Edge Edition i', 'Honda Jazz X',\n",
       "       'Honda Jazz 1.5 VX i DTEC', 'Honda City i DTec V',\n",
       "       'Honda CR-V 2.4 AT', 'Honda Amaze S Diesel',\n",
       "       'Honda Amaze SX i-DTEC', 'Honda Civic VX BSIV',\n",
       "       'Honda Civic 1.8 MT Sport', 'Honda City 1.5 EXI',\n",
       "       'Honda Brio V AT', 'Honda Amaze i-DTEC Privil',\n",
       "       'Honda Amaze S CVT Diesel ', 'Honda Civic 1.8 (E) MT',\n",
       "       'Honda Amaze E Option i-DT', 'Honda Jazz VX CVT',\n",
       "       'Honda Amaze Exclusive Edi', 'Honda CR-V 2.4L 4WD AT AV',\n",
       "       'Honda City i DTec SV', 'Honda Amaze VX Petrol BSI',\n",
       "       'Honda BR-V i-DTEC V MT', 'Honda Amaze E Petrol BSIV',\n",
       "       'Honda Mobilio V i-DTEC', 'Honda Civic 1.8 S AT',\n",
       "       'Honda City i DTEC VX Opti', 'Honda Civic 1.8 S MT',\n",
       "       'Honda City i-DTEC V', 'Honda Mobilio RS i-DTEC',\n",
       "       'Honda BR-V i-VTEC VX MT', 'Honda Accord 2.4 M/T',\n",
       "       'Honda Amaze S CVT i-VTEC', 'Honda Civic 1.8 V AT Insp',\n",
       "       'Honda Amaze EX i-Dtech', 'Honda City Corporate Edit',\n",
       "       'Honda Amaze V CVT Petrol', 'Honda CR-V 2.0L 2WD AT',\n",
       "       'Honda Amaze VX i DTEC', 'Honda CR-V 2.0L 2WD MT',\n",
       "       'Honda Mobilio V Option i-', 'Honda Jazz 1.2 S i VTEC',\n",
       "       'Honda Amaze VX O iDTEC', 'Honda Amaze V Diesel',\n",
       "       'Honda City i DTEC E', 'Honda Amaze S CVT',\n",
       "       'Honda City 1.5 V AT Sunro', 'Honda City i-VTEC S',\n",
       "       'Honda Mobilio E i-DTEC', 'Honda Brio VX AT',\n",
       "       'Honda Accord VTi-L (AT)', 'Honda City 1.3 DX',\n",
       "       'Honda Mobilio RS Option i', 'Honda Amaze Exclusive Die',\n",
       "       'Honda Jazz VX', 'Honda Civic VX Diesel', 'Honda CR-V Petrol 2WD',\n",
       "       'Honda Amaze S Diesel BSIV', 'Honda CR-V 2.0 2WD',\n",
       "       'Honda City 1.5 GXI CVT', 'Honda Amaze VX CVT Diesel',\n",
       "       'Honda City V MT AVN', 'Honda City 1.5 V MT Sunro',\n",
       "       'Honda WR-V VX Diesel', 'Honda Civic ZX'], dtype=object)"
      ]
     },
     "execution_count": 36,
     "metadata": {},
     "output_type": "execute_result"
    }
   ],
   "source": [
    "df['Car Model'].unique()"
   ]
  },
  {
   "cell_type": "code",
   "execution_count": 37,
   "id": "246d524c-e04e-4a75-a6a6-0644b01d1dfb",
   "metadata": {},
   "outputs": [],
   "source": [
    "df[\"Car Model\"] = df[\"Car Model\"].str.split(\" \").str.slice(start = 0,stop = 3).str.join(\" \")"
   ]
  },
  {
   "cell_type": "code",
   "execution_count": 44,
   "id": "fc691c7b-fc72-4560-914f-cd6fe926d677",
   "metadata": {},
   "outputs": [
    {
     "data": {
      "text/plain": [
       "Year          0\n",
       "kms Driven    0\n",
       "Fuel Type     0\n",
       "Suspension    0\n",
       "Price         0\n",
       "Car Model     0\n",
       "dtype: int64"
      ]
     },
     "execution_count": 44,
     "metadata": {},
     "output_type": "execute_result"
    }
   ],
   "source": [
    "df.isnull().sum()"
   ]
  },
  {
   "cell_type": "markdown",
   "id": "dc6d4cad-1183-4a6b-8f31-c513f204731e",
   "metadata": {},
   "source": [
    "## Save the Cleaned File"
   ]
  },
  {
   "cell_type": "code",
   "execution_count": 38,
   "id": "f75c3f46-76af-413f-bff6-0e8feaecfbf0",
   "metadata": {},
   "outputs": [],
   "source": [
    "df.to_csv('Cleaned_Car_Model_Data.csv')"
   ]
  },
  {
   "cell_type": "markdown",
   "id": "71a0ddcc-a609-427d-b518-635384a29a6a",
   "metadata": {},
   "source": [
    "# Data Visualization"
   ]
  },
  {
   "cell_type": "code",
   "execution_count": 47,
   "id": "271b9d50-229d-4f29-b014-4f3043a6abb7",
   "metadata": {},
   "outputs": [
    {
     "data": {
      "text/plain": [
       "Index(['Year', 'kms Driven', 'Fuel Type', 'Suspension', 'Price', 'Car Model'], dtype='object')"
      ]
     },
     "execution_count": 47,
     "metadata": {},
     "output_type": "execute_result"
    }
   ],
   "source": [
    "df.columns"
   ]
  },
  {
   "cell_type": "code",
   "execution_count": 48,
   "id": "532d2dc5-a912-42d1-b838-6e6a6bcc718b",
   "metadata": {},
   "outputs": [
    {
     "data": {
      "image/png": "[encoded data removed]",
      "text/plain": [
       "<Figure size 640x480 with 1 Axes>"
      ]
     },
     "metadata": {},
     "output_type": "display_data"
    }
   ],
   "source": [
    "fuel_type_counts = df['Fuel Type'].value_counts()\n",
    "fuel_type_counts.plot(kind='bar')\n",
    "plt.title('Distribution of Fuel Types')\n",
    "plt.xlabel('Fuel Type')\n",
    "plt.ylabel('Count')\n",
    "plt.show()"
   ]
  },
  {
   "cell_type": "code",
   "execution_count": 49,
   "id": "0b73f993-007c-4374-95c1-7c8c4aa9831b",
   "metadata": {},
   "outputs": [
    {
     "data": {
      "image/png": "[encoded data removed]",
      "text/plain": [
       "<Figure size 800x600 with 1 Axes>"
      ]
     },
     "metadata": {},
     "output_type": "display_data"
    }
   ],
   "source": [
    "plt.figure(figsize=(8, 6))\n",
    "plt.scatter(df['Year'], df['Price'], alpha=0.5)\n",
    "plt.title('Year vs. Price')\n",
    "plt.xlabel('Year')\n",
    "plt.ylabel('Price (in Lakh)')\n",
    "plt.show()"
   ]
  },
  {
   "cell_type": "code",
   "execution_count": 52,
   "id": "73a9fdef-3d85-45d8-8bef-686142d37ac6",
   "metadata": {},
   "outputs": [
    {
     "data": {
      "image/png": "[encoded data removed]",
      "text/plain": [
       "<Figure size 600x800 with 1 Axes>"
      ]
     },
     "metadata": {},
     "output_type": "display_data"
    }
   ],
   "source": [
    "plt.figure(figsize=(6,8))\n",
    "plt.scatter(df['kms Driven'],df['Price'],alpha=0.5)\n",
    "plt.title(\"kms Driven Vs Price\")\n",
    "plt.xlabel(\"Kms Driven\")\n",
    "plt.ylabel(\"Price\")\n",
    "plt.show()"
   ]
  },
  {
   "cell_type": "markdown",
   "id": "2d401e25-5a3b-4920-9834-14a3c8091634",
   "metadata": {},
   "source": [
    "# Thank You for Reading!"
   ]
  }
 ],
 "metadata": {
  "kernelspec": {
   "display_name": "Python 3 (ipykernel)",
   "language": "python",
   "name": "python3"
  },
  "language_info": {
   "codemirror_mode": {
    "name": "ipython",
    "version": 3
   },
   "file_extension": ".py",
   "mimetype": "text/x-python",
   "name": "python",
   "nbconvert_exporter": "python",
   "pygments_lexer": "ipython3",
   "version": "3.11.4"
  }
 },
 "nbformat": 4,
 "nbformat_minor": 5
}
